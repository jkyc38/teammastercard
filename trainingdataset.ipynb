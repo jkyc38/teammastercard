{
 "cells": [
  {
   "cell_type": "markdown",
   "metadata": {},
   "source": [
    "File is to test the training data set without concatenating with the testing data set\n",
    "Also to show the initial training data set and how its biased"
   ]
  },
  {
   "cell_type": "code",
   "execution_count": 12,
   "metadata": {},
   "outputs": [],
   "source": [
    "#import dependencies\n",
    "import pandas as pd\n",
    "import numpy as np\n",
    "import seaborn as sns\n",
    "import matplotlib.pyplot as plt\n",
    "import scipy.stats as stats\n",
    "from sklearn.linear_model import LogisticRegression\n",
    "from sklearn.metrics import accuracy_score, confusion_matrix, precision_recall_curve\n",
    "from sklearn.metrics import precision_score\n",
    "from sklearn.metrics import recall_score\n",
    "from sklearn.metrics import log_loss\n",
    "from sklearn.preprocessing import MinMaxScaler\n",
    "from sklearn.model_selection import train_test_split\n",
    "from helper import get_stats"
   ]
  },
  {
   "cell_type": "code",
   "execution_count": 2,
   "metadata": {},
   "outputs": [],
   "source": [
    "PATH = \"./dataset/customer_churn_dataset-training-master.csv\"\n",
    "\n",
    "df = pd.read_csv(PATH)\n",
    "df.drop(199295, inplace=True) #drops the one null column"
   ]
  },
  {
   "cell_type": "code",
   "execution_count": 3,
   "metadata": {},
   "outputs": [
    {
     "data": {
      "text/plain": [
       "CustomerID           0\n",
       "Age                  0\n",
       "Gender               0\n",
       "Tenure               0\n",
       "Usage Frequency      0\n",
       "Support Calls        0\n",
       "Payment Delay        0\n",
       "Subscription Type    0\n",
       "Contract Length      0\n",
       "Total Spend          0\n",
       "Last Interaction     0\n",
       "Churn                0\n",
       "dtype: int64"
      ]
     },
     "execution_count": 3,
     "metadata": {},
     "output_type": "execute_result"
    }
   ],
   "source": [
    "#Check for null values\n",
    "nan_count = np.sum(df.isnull(), axis=0)\n",
    "nan_count"
   ]
  },
  {
   "cell_type": "code",
   "execution_count": 4,
   "metadata": {},
   "outputs": [],
   "source": [
    "df.drop(columns=[\"CustomerID\", \"Gender\"], inplace=True)"
   ]
  },
  {
   "cell_type": "code",
   "execution_count": 5,
   "metadata": {},
   "outputs": [],
   "source": [
    "df_subscription_type = pd.get_dummies(df['Subscription Type'], prefix='Subscription Type')\n",
    "df = df.join(df_subscription_type)\n",
    "df.drop(columns='Subscription Type', inplace=True)\n",
    "\n",
    "df_contract_length = pd.get_dummies(df['Contract Length'], prefix='Contract Length')\n",
    "df = df.join(df_contract_length)\n",
    "df.drop(columns='Contract Length', inplace=True)"
   ]
  },
  {
   "cell_type": "code",
   "execution_count": 6,
   "metadata": {},
   "outputs": [
    {
     "data": {
      "text/plain": [
       "Churn                         1.00000\n",
       "Support Calls                 0.57427\n",
       "Contract Length_Monthly       0.43355\n",
       "Payment Delay                 0.31213\n",
       "Age                           0.21839\n",
       "Last Interaction              0.14962\n",
       "Subscription Type_Basic       0.02053\n",
       "Subscription Type_Standard   -0.00925\n",
       "Subscription Type_Premium    -0.01107\n",
       "Usage Frequency              -0.04610\n",
       "Tenure                       -0.05192\n",
       "Contract Length_Annual       -0.17596\n",
       "Contract Length_Quarterly    -0.17624\n",
       "Total Spend                  -0.42935\n",
       "Name: Churn, dtype: float64"
      ]
     },
     "execution_count": 6,
     "metadata": {},
     "output_type": "execute_result"
    }
   ],
   "source": [
    "corr_matrix = round(df.corr(),5)\n",
    "corrs = corr_matrix['Churn']\n",
    "corrs_sorted = corrs.sort_values(ascending=False)\n",
    "corrs_sorted\n"
   ]
  },
  {
   "cell_type": "code",
   "execution_count": 7,
   "metadata": {},
   "outputs": [
    {
     "data": {
      "text/html": [
       "<div>\n",
       "<style scoped>\n",
       "    .dataframe tbody tr th:only-of-type {\n",
       "        vertical-align: middle;\n",
       "    }\n",
       "\n",
       "    .dataframe tbody tr th {\n",
       "        vertical-align: top;\n",
       "    }\n",
       "\n",
       "    .dataframe thead th {\n",
       "        text-align: right;\n",
       "    }\n",
       "</style>\n",
       "<table border=\"1\" class=\"dataframe\">\n",
       "  <thead>\n",
       "    <tr style=\"text-align: right;\">\n",
       "      <th></th>\n",
       "      <th>Age</th>\n",
       "      <th>Tenure</th>\n",
       "      <th>Usage Frequency</th>\n",
       "      <th>Support Calls</th>\n",
       "      <th>Payment Delay</th>\n",
       "      <th>Total Spend</th>\n",
       "      <th>Last Interaction</th>\n",
       "      <th>Churn</th>\n",
       "      <th>Subscription Type_Basic</th>\n",
       "      <th>Subscription Type_Premium</th>\n",
       "      <th>Subscription Type_Standard</th>\n",
       "      <th>Contract Length_Annual</th>\n",
       "      <th>Contract Length_Monthly</th>\n",
       "      <th>Contract Length_Quarterly</th>\n",
       "    </tr>\n",
       "  </thead>\n",
       "  <tbody>\n",
       "    <tr>\n",
       "      <th>143413</th>\n",
       "      <td>62.0</td>\n",
       "      <td>12.0</td>\n",
       "      <td>14.0</td>\n",
       "      <td>0.0</td>\n",
       "      <td>8.0</td>\n",
       "      <td>512.00</td>\n",
       "      <td>11.0</td>\n",
       "      <td>1.0</td>\n",
       "      <td>True</td>\n",
       "      <td>False</td>\n",
       "      <td>False</td>\n",
       "      <td>True</td>\n",
       "      <td>False</td>\n",
       "      <td>False</td>\n",
       "    </tr>\n",
       "    <tr>\n",
       "      <th>65334</th>\n",
       "      <td>51.0</td>\n",
       "      <td>8.0</td>\n",
       "      <td>21.0</td>\n",
       "      <td>9.0</td>\n",
       "      <td>6.0</td>\n",
       "      <td>403.00</td>\n",
       "      <td>17.0</td>\n",
       "      <td>1.0</td>\n",
       "      <td>True</td>\n",
       "      <td>False</td>\n",
       "      <td>False</td>\n",
       "      <td>False</td>\n",
       "      <td>False</td>\n",
       "      <td>True</td>\n",
       "    </tr>\n",
       "    <tr>\n",
       "      <th>44236</th>\n",
       "      <td>54.0</td>\n",
       "      <td>27.0</td>\n",
       "      <td>1.0</td>\n",
       "      <td>10.0</td>\n",
       "      <td>20.0</td>\n",
       "      <td>942.00</td>\n",
       "      <td>26.0</td>\n",
       "      <td>1.0</td>\n",
       "      <td>True</td>\n",
       "      <td>False</td>\n",
       "      <td>False</td>\n",
       "      <td>False</td>\n",
       "      <td>False</td>\n",
       "      <td>True</td>\n",
       "    </tr>\n",
       "    <tr>\n",
       "      <th>162778</th>\n",
       "      <td>62.0</td>\n",
       "      <td>35.0</td>\n",
       "      <td>20.0</td>\n",
       "      <td>0.0</td>\n",
       "      <td>22.0</td>\n",
       "      <td>272.00</td>\n",
       "      <td>19.0</td>\n",
       "      <td>1.0</td>\n",
       "      <td>True</td>\n",
       "      <td>False</td>\n",
       "      <td>False</td>\n",
       "      <td>False</td>\n",
       "      <td>False</td>\n",
       "      <td>True</td>\n",
       "    </tr>\n",
       "    <tr>\n",
       "      <th>127254</th>\n",
       "      <td>63.0</td>\n",
       "      <td>28.0</td>\n",
       "      <td>13.0</td>\n",
       "      <td>4.0</td>\n",
       "      <td>16.0</td>\n",
       "      <td>922.00</td>\n",
       "      <td>26.0</td>\n",
       "      <td>1.0</td>\n",
       "      <td>True</td>\n",
       "      <td>False</td>\n",
       "      <td>False</td>\n",
       "      <td>True</td>\n",
       "      <td>False</td>\n",
       "      <td>False</td>\n",
       "    </tr>\n",
       "    <tr>\n",
       "      <th>247773</th>\n",
       "      <td>63.0</td>\n",
       "      <td>31.0</td>\n",
       "      <td>9.0</td>\n",
       "      <td>8.0</td>\n",
       "      <td>6.0</td>\n",
       "      <td>773.67</td>\n",
       "      <td>28.0</td>\n",
       "      <td>1.0</td>\n",
       "      <td>False</td>\n",
       "      <td>False</td>\n",
       "      <td>True</td>\n",
       "      <td>True</td>\n",
       "      <td>False</td>\n",
       "      <td>False</td>\n",
       "    </tr>\n",
       "    <tr>\n",
       "      <th>235355</th>\n",
       "      <td>57.0</td>\n",
       "      <td>46.0</td>\n",
       "      <td>26.0</td>\n",
       "      <td>10.0</td>\n",
       "      <td>16.0</td>\n",
       "      <td>968.67</td>\n",
       "      <td>2.0</td>\n",
       "      <td>1.0</td>\n",
       "      <td>True</td>\n",
       "      <td>False</td>\n",
       "      <td>False</td>\n",
       "      <td>False</td>\n",
       "      <td>False</td>\n",
       "      <td>True</td>\n",
       "    </tr>\n",
       "    <tr>\n",
       "      <th>78694</th>\n",
       "      <td>53.0</td>\n",
       "      <td>46.0</td>\n",
       "      <td>22.0</td>\n",
       "      <td>10.0</td>\n",
       "      <td>21.0</td>\n",
       "      <td>273.00</td>\n",
       "      <td>8.0</td>\n",
       "      <td>1.0</td>\n",
       "      <td>True</td>\n",
       "      <td>False</td>\n",
       "      <td>False</td>\n",
       "      <td>False</td>\n",
       "      <td>True</td>\n",
       "      <td>False</td>\n",
       "    </tr>\n",
       "    <tr>\n",
       "      <th>106070</th>\n",
       "      <td>60.0</td>\n",
       "      <td>33.0</td>\n",
       "      <td>21.0</td>\n",
       "      <td>7.0</td>\n",
       "      <td>9.0</td>\n",
       "      <td>981.00</td>\n",
       "      <td>5.0</td>\n",
       "      <td>1.0</td>\n",
       "      <td>True</td>\n",
       "      <td>False</td>\n",
       "      <td>False</td>\n",
       "      <td>True</td>\n",
       "      <td>False</td>\n",
       "      <td>False</td>\n",
       "    </tr>\n",
       "    <tr>\n",
       "      <th>248022</th>\n",
       "      <td>65.0</td>\n",
       "      <td>4.0</td>\n",
       "      <td>19.0</td>\n",
       "      <td>2.0</td>\n",
       "      <td>24.0</td>\n",
       "      <td>143.49</td>\n",
       "      <td>13.0</td>\n",
       "      <td>1.0</td>\n",
       "      <td>True</td>\n",
       "      <td>False</td>\n",
       "      <td>False</td>\n",
       "      <td>False</td>\n",
       "      <td>True</td>\n",
       "      <td>False</td>\n",
       "    </tr>\n",
       "  </tbody>\n",
       "</table>\n",
       "</div>"
      ],
      "text/plain": [
       "         Age  Tenure  Usage Frequency  Support Calls  Payment Delay  \\\n",
       "143413  62.0    12.0             14.0            0.0            8.0   \n",
       "65334   51.0     8.0             21.0            9.0            6.0   \n",
       "44236   54.0    27.0              1.0           10.0           20.0   \n",
       "162778  62.0    35.0             20.0            0.0           22.0   \n",
       "127254  63.0    28.0             13.0            4.0           16.0   \n",
       "247773  63.0    31.0              9.0            8.0            6.0   \n",
       "235355  57.0    46.0             26.0           10.0           16.0   \n",
       "78694   53.0    46.0             22.0           10.0           21.0   \n",
       "106070  60.0    33.0             21.0            7.0            9.0   \n",
       "248022  65.0     4.0             19.0            2.0           24.0   \n",
       "\n",
       "        Total Spend  Last Interaction  Churn  Subscription Type_Basic  \\\n",
       "143413       512.00              11.0    1.0                     True   \n",
       "65334        403.00              17.0    1.0                     True   \n",
       "44236        942.00              26.0    1.0                     True   \n",
       "162778       272.00              19.0    1.0                     True   \n",
       "127254       922.00              26.0    1.0                     True   \n",
       "247773       773.67              28.0    1.0                    False   \n",
       "235355       968.67               2.0    1.0                     True   \n",
       "78694        273.00               8.0    1.0                     True   \n",
       "106070       981.00               5.0    1.0                     True   \n",
       "248022       143.49              13.0    1.0                     True   \n",
       "\n",
       "        Subscription Type_Premium  Subscription Type_Standard  \\\n",
       "143413                      False                       False   \n",
       "65334                       False                       False   \n",
       "44236                       False                       False   \n",
       "162778                      False                       False   \n",
       "127254                      False                       False   \n",
       "247773                      False                        True   \n",
       "235355                      False                       False   \n",
       "78694                       False                       False   \n",
       "106070                      False                       False   \n",
       "248022                      False                       False   \n",
       "\n",
       "        Contract Length_Annual  Contract Length_Monthly  \\\n",
       "143413                    True                    False   \n",
       "65334                    False                    False   \n",
       "44236                    False                    False   \n",
       "162778                   False                    False   \n",
       "127254                    True                    False   \n",
       "247773                    True                    False   \n",
       "235355                   False                    False   \n",
       "78694                    False                     True   \n",
       "106070                    True                    False   \n",
       "248022                   False                     True   \n",
       "\n",
       "        Contract Length_Quarterly  \n",
       "143413                      False  \n",
       "65334                        True  \n",
       "44236                        True  \n",
       "162778                       True  \n",
       "127254                      False  \n",
       "247773                      False  \n",
       "235355                       True  \n",
       "78694                       False  \n",
       "106070                      False  \n",
       "248022                      False  "
      ]
     },
     "execution_count": 7,
     "metadata": {},
     "output_type": "execute_result"
    }
   ],
   "source": [
    "#grabs any random sample above age 50 to show that they always churn when age is above 50\n",
    "df[df['Age']>50].sample(n=10)"
   ]
  },
  {
   "cell_type": "code",
   "execution_count": 8,
   "metadata": {},
   "outputs": [
    {
     "data": {
      "text/plain": [
       "<Axes: xlabel='Age', ylabel='Churn'>"
      ]
     },
     "execution_count": 8,
     "metadata": {},
     "output_type": "execute_result"
    },
    {
     "data": {
      "image/png": "[encoded data removed]",
      "text/plain": [
       "<Figure size 640x480 with 1 Axes>"
      ]
     },
     "metadata": {},
     "output_type": "display_data"
    }
   ],
   "source": [
    "sns.lineplot(x=df['Age'], y=df['Churn'])\n"
   ]
  },
  {
   "cell_type": "code",
   "execution_count": 9,
   "metadata": {},
   "outputs": [],
   "source": [
    "y = df['Churn']\n",
    "X = df.drop(columns='Churn')\n",
    "\n",
    "X_train, X_test, y_train, y_test = train_test_split(X, y, test_size=0.3,random_state=1234)"
   ]
  },
  {
   "cell_type": "code",
   "execution_count": null,
   "metadata": {},
   "outputs": [
    {
     "name": "stdout",
     "output_type": "stream",
     "text": [
      "Log Loss: 0.25695506802774937, accuracy score: 0.8895727788279774, precision: 0.920881971465629, recall: 0.8808580461840156\n",
      "F1 Score: 0.9004254622811324\n"
     ]
    }
   ],
   "source": [
    "model = LogisticRegression(max_iter=1000)\n",
    "model.fit(X_train, y_train)\n",
    "predictions = model.predict(X_test)\n",
    "probabilities = model.predict_proba(X_test)\n",
    "lg_loss = log_loss(y_test, probabilities)\n",
    "acc_score = accuracy_score(y_test, predictions)\n",
    "precision = precision_score(y_test, predictions)\n",
    "recall = recall_score(y_test, predictions)\n",
    "# print('Log loss=' + str(lg_loss) + ', accuracy score: ' + str(acc_score), ', recall : ' + recall)\n",
    "print(f'Log Loss: {lg_loss}, accuracy score: {acc_score}, precision: {precision}, recall: {recall}')\n",
    "print('F1 Score: ' + str((2*precision*recall)/(precision+recall)))\n"
   ]
  },
  {
   "cell_type": "code",
   "execution_count": 13,
   "metadata": {},
   "outputs": [
    {
     "name": "stdout",
     "output_type": "stream",
     "text": [
      "Log Loss: 0.07653992185159593, accuracy score: 0.9781379548921643, precision: 0.9999895992594673, recall: 0.96146\n",
      "F1 Score: 0.9803463728734061\n"
     ]
    }
   ],
   "source": [
    "from sklearn.tree import DecisionTreeClassifier\n",
    "y = df['Churn']\n",
    "X = df.drop(columns='Churn')\n",
    "\n",
    "X_train, X_test, y_train, y_test = train_test_split(X, y, test_size=0.4,stratify=y,random_state=1234)\n",
    "\n",
    "dt = DecisionTreeClassifier(criterion='log_loss', max_depth=7, min_samples_leaf=4, random_state=1234)\n",
    "dt.fit(X_train, y_train)\n",
    "\n",
    "y_pred = dt.predict(X_test)\n",
    "probabilities = dt.predict_proba(X_test)\n",
    "\n",
    "get_stats(y_test, y_pred, probabilities)\n",
    "\n"
   ]
  },
  {
   "cell_type": "code",
   "execution_count": 15,
   "metadata": {},
   "outputs": [
    {
     "name": "stdout",
     "output_type": "stream",
     "text": [
      "{'max_depth': 7, 'min_samples_leaf': 4}, DecisionTreeClassifier(criterion='log_loss', max_depth=7, min_samples_leaf=4,\n",
      "                       random_state=1234)\n"
     ]
    }
   ],
   "source": [
    "from sklearn.model_selection import GridSearchCV\n",
    "\n",
    "param_grid = {\n",
    "    'max_depth': [3, 5, 7],  # Testing different tree depths\n",
    "    'min_samples_leaf': [2, 4]  # Minimum samples required at leaf nodes\n",
    "}\n",
    "\n",
    "# Perform Grid Search with 5-fold cross-validation\n",
    "grid_search = GridSearchCV(estimator=dt, param_grid=param_grid, cv=5, scoring='accuracy')\n",
    "\n",
    "# Train the model using grid search\n",
    "grid_search.fit(X_train, y_train)\n",
    "\n",
    "# Get the best hyperparameters and model\n",
    "best_params = grid_search.best_params_\n",
    "best_model = grid_search.best_estimator_\n",
    "\n",
    "print(f'{best_params}, {best_model}')"
   ]
  },
  {
   "cell_type": "code",
   "execution_count": 16,
   "metadata": {},
   "outputs": [
    {
     "name": "stdout",
     "output_type": "stream",
     "text": [
      "Log Loss: 0.034063108299301696, accuracy score: 0.9910907203983372, precision: 0.9997867392430259, recall: 0.9845\n",
      "F1 Score: 0.9920844858946647\n"
     ]
    }
   ],
   "source": [
    "#Intial HGBC with all default parameters\n",
    "from sklearn.ensemble import HistGradientBoostingClassifier\n",
    "\n",
    "y = df['Churn']\n",
    "X = df.drop(columns='Churn')\n",
    "\n",
    "X_train, X_test, y_train, y_test = train_test_split(X, y, test_size=0.4,stratify=y,random_state=1234)\n",
    "\n",
    "hgbc = HistGradientBoostingClassifier()\n",
    "hgbc.fit(X_train, y_train)\n",
    "\n",
    "y_pred = hgbc.predict(X_test)\n",
    "probabilities = hgbc.predict_proba(X_test)\n",
    "\n",
    "get_stats(y_test, y_pred, probabilities)"
   ]
  },
  {
   "cell_type": "markdown",
   "metadata": {},
   "source": [
    "These models are susceptible to overfitting as shown from high accuracy.\n"
   ]
  }
 ],
 "metadata": {
  "kernelspec": {
   "display_name": "Python 3",
   "language": "python",
   "name": "python3"
  },
  "language_info": {
   "codemirror_mode": {
    "name": "ipython",
    "version": 3
   },
   "file_extension": ".py",
   "mimetype": "text/x-python",
   "name": "python",
   "nbconvert_exporter": "python",
   "pygments_lexer": "ipython3",
   "version": "3.12.6"
  }
 },
 "nbformat": 4,
 "nbformat_minor": 2
}

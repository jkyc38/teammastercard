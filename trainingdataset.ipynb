{
 "cells": [
  {
   "cell_type": "markdown",
   "metadata": {},
   "source": [
    "File is to test the training data set without concatenating with the testing data set\n",
    "Also to show the initial training data set and how its biased"
   ]
  },
  {
   "cell_type": "code",
   "execution_count": 17,
   "metadata": {},
   "outputs": [],
   "source": [
    "#import dependencies\n",
    "import pandas as pd\n",
    "import numpy as np\n",
    "import seaborn as sns\n",
    "import matplotlib.pyplot as plt\n",
    "import scipy.stats as stats\n",
    "from sklearn.linear_model import LogisticRegression\n",
    "from sklearn.metrics import accuracy_score, confusion_matrix, precision_recall_curve\n",
    "from sklearn.metrics import precision_score\n",
    "from sklearn.metrics import recall_score\n",
    "from sklearn.metrics import log_loss\n",
    "from sklearn.preprocessing import MinMaxScaler\n",
    "from sklearn.model_selection import train_test_split\n",
    "from helper import get_stats"
   ]
  },
  {
   "cell_type": "code",
   "execution_count": 18,
   "metadata": {},
   "outputs": [],
   "source": [
    "PATH = \"./dataset/customer_churn_dataset-training-master.csv\"\n",
    "\n",
    "df = pd.read_csv(PATH)\n",
    "df.drop(199295, inplace=True) #drops the one null column"
   ]
  },
  {
   "cell_type": "code",
   "execution_count": 19,
   "metadata": {},
   "outputs": [
    {
     "data": {
      "text/plain": [
       "CustomerID           0\n",
       "Age                  0\n",
       "Gender               0\n",
       "Tenure               0\n",
       "Usage Frequency      0\n",
       "Support Calls        0\n",
       "Payment Delay        0\n",
       "Subscription Type    0\n",
       "Contract Length      0\n",
       "Total Spend          0\n",
       "Last Interaction     0\n",
       "Churn                0\n",
       "dtype: int64"
      ]
     },
     "execution_count": 19,
     "metadata": {},
     "output_type": "execute_result"
    }
   ],
   "source": [
    "#Check for null values\n",
    "nan_count = np.sum(df.isnull(), axis=0)\n",
    "nan_count"
   ]
  },
  {
   "cell_type": "code",
   "execution_count": 20,
   "metadata": {},
   "outputs": [],
   "source": [
    "df.drop(columns=[\"CustomerID\", \"Gender\"], inplace=True)"
   ]
  },
  {
   "cell_type": "code",
   "execution_count": 21,
   "metadata": {},
   "outputs": [],
   "source": [
    "df_subscription_type = pd.get_dummies(df['Subscription Type'], prefix='Subscription Type')\n",
    "df = df.join(df_subscription_type)\n",
    "df.drop(columns='Subscription Type', inplace=True)\n",
    "\n",
    "df_contract_length = pd.get_dummies(df['Contract Length'], prefix='Contract Length')\n",
    "df = df.join(df_contract_length)\n",
    "df.drop(columns='Contract Length', inplace=True)"
   ]
  },
  {
   "cell_type": "code",
   "execution_count": 22,
   "metadata": {},
   "outputs": [
    {
     "data": {
      "text/plain": [
       "Churn                         1.00000\n",
       "Support Calls                 0.57427\n",
       "Contract Length_Monthly       0.43355\n",
       "Payment Delay                 0.31213\n",
       "Age                           0.21839\n",
       "Last Interaction              0.14962\n",
       "Subscription Type_Basic       0.02053\n",
       "Subscription Type_Standard   -0.00925\n",
       "Subscription Type_Premium    -0.01107\n",
       "Usage Frequency              -0.04610\n",
       "Tenure                       -0.05192\n",
       "Contract Length_Annual       -0.17596\n",
       "Contract Length_Quarterly    -0.17624\n",
       "Total Spend                  -0.42935\n",
       "Name: Churn, dtype: float64"
      ]
     },
     "execution_count": 22,
     "metadata": {},
     "output_type": "execute_result"
    }
   ],
   "source": [
    "corr_matrix = round(df.corr(),5)\n",
    "corrs = corr_matrix['Churn']\n",
    "corrs_sorted = corrs.sort_values(ascending=False)\n",
    "corrs_sorted\n"
   ]
  },
  {
   "cell_type": "code",
   "execution_count": 30,
   "metadata": {},
   "outputs": [
    {
     "data": {
      "text/html": [
       "<div>\n",
       "<style scoped>\n",
       "    .dataframe tbody tr th:only-of-type {\n",
       "        vertical-align: middle;\n",
       "    }\n",
       "\n",
       "    .dataframe tbody tr th {\n",
       "        vertical-align: top;\n",
       "    }\n",
       "\n",
       "    .dataframe thead th {\n",
       "        text-align: right;\n",
       "    }\n",
       "</style>\n",
       "<table border=\"1\" class=\"dataframe\">\n",
       "  <thead>\n",
       "    <tr style=\"text-align: right;\">\n",
       "      <th></th>\n",
       "      <th>Age</th>\n",
       "      <th>Tenure</th>\n",
       "      <th>Usage Frequency</th>\n",
       "      <th>Support Calls</th>\n",
       "      <th>Payment Delay</th>\n",
       "      <th>Total Spend</th>\n",
       "      <th>Last Interaction</th>\n",
       "      <th>Churn</th>\n",
       "      <th>Subscription Type_Basic</th>\n",
       "      <th>Subscription Type_Premium</th>\n",
       "      <th>Subscription Type_Standard</th>\n",
       "      <th>Contract Length_Annual</th>\n",
       "      <th>Contract Length_Monthly</th>\n",
       "      <th>Contract Length_Quarterly</th>\n",
       "    </tr>\n",
       "  </thead>\n",
       "  <tbody>\n",
       "    <tr>\n",
       "      <th>165809</th>\n",
       "      <td>61.0</td>\n",
       "      <td>8.0</td>\n",
       "      <td>7.0</td>\n",
       "      <td>6.0</td>\n",
       "      <td>7.0</td>\n",
       "      <td>987.00</td>\n",
       "      <td>22.0</td>\n",
       "      <td>1.0</td>\n",
       "      <td>False</td>\n",
       "      <td>False</td>\n",
       "      <td>True</td>\n",
       "      <td>False</td>\n",
       "      <td>False</td>\n",
       "      <td>True</td>\n",
       "    </tr>\n",
       "    <tr>\n",
       "      <th>238581</th>\n",
       "      <td>53.0</td>\n",
       "      <td>8.0</td>\n",
       "      <td>18.0</td>\n",
       "      <td>1.0</td>\n",
       "      <td>6.0</td>\n",
       "      <td>332.48</td>\n",
       "      <td>4.0</td>\n",
       "      <td>1.0</td>\n",
       "      <td>False</td>\n",
       "      <td>True</td>\n",
       "      <td>False</td>\n",
       "      <td>True</td>\n",
       "      <td>False</td>\n",
       "      <td>False</td>\n",
       "    </tr>\n",
       "    <tr>\n",
       "      <th>46816</th>\n",
       "      <td>55.0</td>\n",
       "      <td>1.0</td>\n",
       "      <td>3.0</td>\n",
       "      <td>5.0</td>\n",
       "      <td>4.0</td>\n",
       "      <td>256.00</td>\n",
       "      <td>4.0</td>\n",
       "      <td>1.0</td>\n",
       "      <td>True</td>\n",
       "      <td>False</td>\n",
       "      <td>False</td>\n",
       "      <td>False</td>\n",
       "      <td>True</td>\n",
       "      <td>False</td>\n",
       "    </tr>\n",
       "    <tr>\n",
       "      <th>214271</th>\n",
       "      <td>57.0</td>\n",
       "      <td>7.0</td>\n",
       "      <td>30.0</td>\n",
       "      <td>5.0</td>\n",
       "      <td>10.0</td>\n",
       "      <td>781.79</td>\n",
       "      <td>17.0</td>\n",
       "      <td>1.0</td>\n",
       "      <td>False</td>\n",
       "      <td>False</td>\n",
       "      <td>True</td>\n",
       "      <td>False</td>\n",
       "      <td>True</td>\n",
       "      <td>False</td>\n",
       "    </tr>\n",
       "    <tr>\n",
       "      <th>239577</th>\n",
       "      <td>64.0</td>\n",
       "      <td>23.0</td>\n",
       "      <td>9.0</td>\n",
       "      <td>9.0</td>\n",
       "      <td>29.0</td>\n",
       "      <td>544.74</td>\n",
       "      <td>20.0</td>\n",
       "      <td>1.0</td>\n",
       "      <td>False</td>\n",
       "      <td>True</td>\n",
       "      <td>False</td>\n",
       "      <td>True</td>\n",
       "      <td>False</td>\n",
       "      <td>False</td>\n",
       "    </tr>\n",
       "    <tr>\n",
       "      <th>...</th>\n",
       "      <td>...</td>\n",
       "      <td>...</td>\n",
       "      <td>...</td>\n",
       "      <td>...</td>\n",
       "      <td>...</td>\n",
       "      <td>...</td>\n",
       "      <td>...</td>\n",
       "      <td>...</td>\n",
       "      <td>...</td>\n",
       "      <td>...</td>\n",
       "      <td>...</td>\n",
       "      <td>...</td>\n",
       "      <td>...</td>\n",
       "      <td>...</td>\n",
       "    </tr>\n",
       "    <tr>\n",
       "      <th>218935</th>\n",
       "      <td>61.0</td>\n",
       "      <td>35.0</td>\n",
       "      <td>23.0</td>\n",
       "      <td>7.0</td>\n",
       "      <td>4.0</td>\n",
       "      <td>657.72</td>\n",
       "      <td>15.0</td>\n",
       "      <td>1.0</td>\n",
       "      <td>True</td>\n",
       "      <td>False</td>\n",
       "      <td>False</td>\n",
       "      <td>True</td>\n",
       "      <td>False</td>\n",
       "      <td>False</td>\n",
       "    </tr>\n",
       "    <tr>\n",
       "      <th>219004</th>\n",
       "      <td>57.0</td>\n",
       "      <td>24.0</td>\n",
       "      <td>7.0</td>\n",
       "      <td>5.0</td>\n",
       "      <td>18.0</td>\n",
       "      <td>716.41</td>\n",
       "      <td>24.0</td>\n",
       "      <td>1.0</td>\n",
       "      <td>False</td>\n",
       "      <td>False</td>\n",
       "      <td>True</td>\n",
       "      <td>False</td>\n",
       "      <td>False</td>\n",
       "      <td>True</td>\n",
       "    </tr>\n",
       "    <tr>\n",
       "      <th>209718</th>\n",
       "      <td>63.0</td>\n",
       "      <td>20.0</td>\n",
       "      <td>11.0</td>\n",
       "      <td>6.0</td>\n",
       "      <td>18.0</td>\n",
       "      <td>489.47</td>\n",
       "      <td>19.0</td>\n",
       "      <td>1.0</td>\n",
       "      <td>False</td>\n",
       "      <td>True</td>\n",
       "      <td>False</td>\n",
       "      <td>True</td>\n",
       "      <td>False</td>\n",
       "      <td>False</td>\n",
       "    </tr>\n",
       "    <tr>\n",
       "      <th>238918</th>\n",
       "      <td>58.0</td>\n",
       "      <td>1.0</td>\n",
       "      <td>29.0</td>\n",
       "      <td>10.0</td>\n",
       "      <td>21.0</td>\n",
       "      <td>814.55</td>\n",
       "      <td>9.0</td>\n",
       "      <td>1.0</td>\n",
       "      <td>True</td>\n",
       "      <td>False</td>\n",
       "      <td>False</td>\n",
       "      <td>False</td>\n",
       "      <td>False</td>\n",
       "      <td>True</td>\n",
       "    </tr>\n",
       "    <tr>\n",
       "      <th>43640</th>\n",
       "      <td>65.0</td>\n",
       "      <td>9.0</td>\n",
       "      <td>15.0</td>\n",
       "      <td>9.0</td>\n",
       "      <td>20.0</td>\n",
       "      <td>924.00</td>\n",
       "      <td>10.0</td>\n",
       "      <td>1.0</td>\n",
       "      <td>False</td>\n",
       "      <td>False</td>\n",
       "      <td>True</td>\n",
       "      <td>False</td>\n",
       "      <td>True</td>\n",
       "      <td>False</td>\n",
       "    </tr>\n",
       "  </tbody>\n",
       "</table>\n",
       "<p>100 rows × 14 columns</p>\n",
       "</div>"
      ],
      "text/plain": [
       "         Age  Tenure  Usage Frequency  Support Calls  Payment Delay  \\\n",
       "165809  61.0     8.0              7.0            6.0            7.0   \n",
       "238581  53.0     8.0             18.0            1.0            6.0   \n",
       "46816   55.0     1.0              3.0            5.0            4.0   \n",
       "214271  57.0     7.0             30.0            5.0           10.0   \n",
       "239577  64.0    23.0              9.0            9.0           29.0   \n",
       "...      ...     ...              ...            ...            ...   \n",
       "218935  61.0    35.0             23.0            7.0            4.0   \n",
       "219004  57.0    24.0              7.0            5.0           18.0   \n",
       "209718  63.0    20.0             11.0            6.0           18.0   \n",
       "238918  58.0     1.0             29.0           10.0           21.0   \n",
       "43640   65.0     9.0             15.0            9.0           20.0   \n",
       "\n",
       "        Total Spend  Last Interaction  Churn  Subscription Type_Basic  \\\n",
       "165809       987.00              22.0    1.0                    False   \n",
       "238581       332.48               4.0    1.0                    False   \n",
       "46816        256.00               4.0    1.0                     True   \n",
       "214271       781.79              17.0    1.0                    False   \n",
       "239577       544.74              20.0    1.0                    False   \n",
       "...             ...               ...    ...                      ...   \n",
       "218935       657.72              15.0    1.0                     True   \n",
       "219004       716.41              24.0    1.0                    False   \n",
       "209718       489.47              19.0    1.0                    False   \n",
       "238918       814.55               9.0    1.0                     True   \n",
       "43640        924.00              10.0    1.0                    False   \n",
       "\n",
       "        Subscription Type_Premium  Subscription Type_Standard  \\\n",
       "165809                      False                        True   \n",
       "238581                       True                       False   \n",
       "46816                       False                       False   \n",
       "214271                      False                        True   \n",
       "239577                       True                       False   \n",
       "...                           ...                         ...   \n",
       "218935                      False                       False   \n",
       "219004                      False                        True   \n",
       "209718                       True                       False   \n",
       "238918                      False                       False   \n",
       "43640                       False                        True   \n",
       "\n",
       "        Contract Length_Annual  Contract Length_Monthly  \\\n",
       "165809                   False                    False   \n",
       "238581                    True                    False   \n",
       "46816                    False                     True   \n",
       "214271                   False                     True   \n",
       "239577                    True                    False   \n",
       "...                        ...                      ...   \n",
       "218935                    True                    False   \n",
       "219004                   False                    False   \n",
       "209718                    True                    False   \n",
       "238918                   False                    False   \n",
       "43640                    False                     True   \n",
       "\n",
       "        Contract Length_Quarterly  \n",
       "165809                       True  \n",
       "238581                      False  \n",
       "46816                       False  \n",
       "214271                      False  \n",
       "239577                      False  \n",
       "...                           ...  \n",
       "218935                      False  \n",
       "219004                       True  \n",
       "209718                      False  \n",
       "238918                       True  \n",
       "43640                       False  \n",
       "\n",
       "[100 rows x 14 columns]"
      ]
     },
     "execution_count": 30,
     "metadata": {},
     "output_type": "execute_result"
    }
   ],
   "source": [
    "#grabs any random sample above age 50 to show that they always churn when age is above 50\n",
    "age_above_50 = df['Age']>50\n",
    "df[age_above_50].sample(n=100)"
   ]
  },
  {
   "cell_type": "code",
   "execution_count": null,
   "metadata": {},
   "outputs": [
    {
     "name": "stdout",
     "output_type": "stream",
     "text": [
      "Churn rate when age is above 50: 100.0%\n"
     ]
    }
   ],
   "source": [
    "filtered_df = df[df['Age'] > 50] #filters the data frame to only when age is above 50\n",
    "churned = (filtered_df['Churn'] == 1).sum() #counts all the churn \n",
    "not_churned = (filtered_df['Churn'] == 0).sum() #counts all the not churn\n",
    "churn_rate = (churned/len(filtered_df) * 100) #calculate the rate\n",
    "\n",
    "print(f'Churn rate when age is above 50: {churn_rate}%')"
   ]
  },
  {
   "cell_type": "code",
   "execution_count": 24,
   "metadata": {},
   "outputs": [
    {
     "data": {
      "text/plain": [
       "<Axes: xlabel='Age', ylabel='Churn'>"
      ]
     },
     "execution_count": 24,
     "metadata": {},
     "output_type": "execute_result"
    },
    {
     "data": {
      "image/png": "[encoded data removed]",
      "text/plain": [
       "<Figure size 640x480 with 1 Axes>"
      ]
     },
     "metadata": {},
     "output_type": "display_data"
    }
   ],
   "source": [
    "sns.lineplot(x=df['Age'], y=df['Churn'])\n"
   ]
  },
  {
   "cell_type": "code",
   "execution_count": 25,
   "metadata": {},
   "outputs": [],
   "source": [
    "y = df['Churn']\n",
    "X = df.drop(columns='Churn')\n",
    "\n",
    "X_train, X_test, y_train, y_test = train_test_split(X, y, test_size=0.3,random_state=1234)"
   ]
  },
  {
   "cell_type": "code",
   "execution_count": 26,
   "metadata": {},
   "outputs": [
    {
     "name": "stdout",
     "output_type": "stream",
     "text": [
      "Log Loss: 0.25695506802774937, accuracy score: 0.8895727788279774, precision: 0.920881971465629, recall: 0.8808580461840156\n",
      "F1 Score: 0.9004254622811324\n"
     ]
    }
   ],
   "source": [
    "model = LogisticRegression(max_iter=1000)\n",
    "model.fit(X_train, y_train)\n",
    "predictions = model.predict(X_test)\n",
    "probabilities = model.predict_proba(X_test)\n",
    "lg_loss = log_loss(y_test, probabilities)\n",
    "acc_score = accuracy_score(y_test, predictions)\n",
    "precision = precision_score(y_test, predictions)\n",
    "recall = recall_score(y_test, predictions)\n",
    "# print('Log loss=' + str(lg_loss) + ', accuracy score: ' + str(acc_score), ', recall : ' + recall)\n",
    "print(f'Log Loss: {lg_loss}, accuracy score: {acc_score}, precision: {precision}, recall: {recall}')\n",
    "print('F1 Score: ' + str((2*precision*recall)/(precision+recall)))\n"
   ]
  },
  {
   "cell_type": "code",
   "execution_count": 27,
   "metadata": {},
   "outputs": [
    {
     "name": "stdout",
     "output_type": "stream",
     "text": [
      "Log Loss: 0.07653992185159593, accuracy score: 0.9781379548921643, precision: 0.9999895992594673, recall: 0.96146\n",
      "F1 Score: 0.9803463728734061\n"
     ]
    }
   ],
   "source": [
    "from sklearn.tree import DecisionTreeClassifier\n",
    "y = df['Churn']\n",
    "X = df.drop(columns='Churn')\n",
    "\n",
    "X_train, X_test, y_train, y_test = train_test_split(X, y, test_size=0.4,stratify=y,random_state=1234)\n",
    "\n",
    "dt = DecisionTreeClassifier(criterion='log_loss', max_depth=7, min_samples_leaf=4, random_state=1234)\n",
    "dt.fit(X_train, y_train)\n",
    "\n",
    "y_pred = dt.predict(X_test)\n",
    "probabilities = dt.predict_proba(X_test)\n",
    "\n",
    "get_stats(y_test, y_pred, probabilities)\n",
    "\n"
   ]
  },
  {
   "cell_type": "code",
   "execution_count": 28,
   "metadata": {},
   "outputs": [
    {
     "name": "stdout",
     "output_type": "stream",
     "text": [
      "{'max_depth': 7, 'min_samples_leaf': 4}, DecisionTreeClassifier(criterion='log_loss', max_depth=7, min_samples_leaf=4,\n",
      "                       random_state=1234)\n"
     ]
    }
   ],
   "source": [
    "from sklearn.model_selection import GridSearchCV\n",
    "\n",
    "param_grid = {\n",
    "    'max_depth': [3, 5, 7],  # Testing different tree depths\n",
    "    'min_samples_leaf': [2, 4]  # Minimum samples required at leaf nodes\n",
    "}\n",
    "\n",
    "# Perform Grid Search with 5-fold cross-validation\n",
    "grid_search = GridSearchCV(estimator=dt, param_grid=param_grid, cv=5, scoring='accuracy')\n",
    "\n",
    "# Train the model using grid search\n",
    "grid_search.fit(X_train, y_train)\n",
    "\n",
    "# Get the best hyperparameters and model\n",
    "best_params = grid_search.best_params_\n",
    "best_model = grid_search.best_estimator_\n",
    "\n",
    "print(f'{best_params}, {best_model}')"
   ]
  },
  {
   "cell_type": "code",
   "execution_count": 29,
   "metadata": {},
   "outputs": [
    {
     "name": "stdout",
     "output_type": "stream",
     "text": [
      "Log Loss: 0.03371347729893118, accuracy score: 0.9913799458978183, precision: 0.9998274356944191, recall: 0.98497\n",
      "F1 Score: 0.9923431093021148\n"
     ]
    }
   ],
   "source": [
    "#Intial HGBC with all default parameters\n",
    "from sklearn.ensemble import HistGradientBoostingClassifier\n",
    "\n",
    "y = df['Churn']\n",
    "X = df.drop(columns='Churn')\n",
    "\n",
    "X_train, X_test, y_train, y_test = train_test_split(X, y, test_size=0.4,stratify=y,random_state=1234)\n",
    "\n",
    "hgbc = HistGradientBoostingClassifier()\n",
    "hgbc.fit(X_train, y_train)\n",
    "\n",
    "y_pred = hgbc.predict(X_test)\n",
    "probabilities = hgbc.predict_proba(X_test)\n",
    "\n",
    "get_stats(y_test, y_pred, probabilities)"
   ]
  },
  {
   "cell_type": "markdown",
   "metadata": {},
   "source": [
    "These models are susceptible to overfitting as shown from high accuracy.\n"
   ]
  }
 ],
 "metadata": {
  "kernelspec": {
   "display_name": "Python 3",
   "language": "python",
   "name": "python3"
  },
  "language_info": {
   "codemirror_mode": {
    "name": "ipython",
    "version": 3
   },
   "file_extension": ".py",
   "mimetype": "text/x-python",
   "name": "python",
   "nbconvert_exporter": "python",
   "pygments_lexer": "ipython3",
   "version": "3.12.6"
  }
 },
 "nbformat": 4,
 "nbformat_minor": 2
}

{
 "cells": [
  {
   "cell_type": "code",
   "execution_count": null,
   "metadata": {},
   "outputs": [],
   "source": [
    "import pandas as pd\n",
    "import numpy as np\n",
    "import seaborn as sns\n",
    "import matplotlib.pyplot as plt\n",
    "import scipy.stats as stats"
   ]
  },
  {
   "cell_type": "code",
   "execution_count": null,
   "metadata": {},
   "outputs": [],
   "source": [
    "# Load the CSV file into a DataFrame\n",
    "training_dataset = pd.read_csv('./dataset/customer_churn_dataset-training-master.csv')\n",
    "testing_dataset = pd.read_csv('./dataset/customer_churn_dataset-testing-master.csv')\n",
    "# Display the first 5 rows of the DataFrame\n",
    "# print(df1.head())\n",
    "# print(df1.columns)\n",
    "df = pd.concat([training_dataset, testing_dataset], ignore_index=True)\n",
    "\n",
    "df.head(50)"
   ]
  },
  {
   "cell_type": "code",
   "execution_count": null,
   "metadata": {},
   "outputs": [],
   "source": [
    "df.drop(199295, inplace=True)"
   ]
  },
  {
   "cell_type": "code",
   "execution_count": null,
   "metadata": {},
   "outputs": [],
   "source": [
    "df.shape"
   ]
  },
  {
   "cell_type": "code",
   "execution_count": null,
   "metadata": {},
   "outputs": [],
   "source": [
    "df.head()"
   ]
  },
  {
   "cell_type": "code",
   "execution_count": null,
   "metadata": {},
   "outputs": [],
   "source": [
    "df.hist(bins=15, figsize=(20,15))"
   ]
  },
  {
   "cell_type": "code",
   "execution_count": null,
   "metadata": {},
   "outputs": [],
   "source": [
    "sns.lineplot(x=df['Age'], y=df['Churn'])"
   ]
  },
  {
   "cell_type": "code",
   "execution_count": null,
   "metadata": {},
   "outputs": [],
   "source": [
    "#Perform one-hot encoding\n",
    "df_gender = pd.get_dummies(df['Gender'], prefix='Gender')\n",
    "df = df.join(df_gender)\n",
    "df.drop(columns='Gender', inplace=True)\n",
    "\n",
    "df_subscription_type = pd.get_dummies(df['Subscription Type'], prefix='Subscription Type')\n",
    "df = df.join(df_subscription_type)\n",
    "df.drop(columns='Subscription Type', inplace=True)\n",
    "\n",
    "df_contract_length = pd.get_dummies(df['Contract Length'], prefix='Contract Length')\n",
    "df = df.join(df_contract_length)\n",
    "df.drop(columns='Contract Length', inplace=True)"
   ]
  },
  {
   "cell_type": "code",
   "execution_count": null,
   "metadata": {},
   "outputs": [],
   "source": [
    "df.head()"
   ]
  },
  {
   "cell_type": "code",
   "execution_count": null,
   "metadata": {},
   "outputs": [],
   "source": [
    "def churn_rate_by_col(col:str):\n",
    "    churn = df[df['Churn']==1]\n",
    "\n",
    "    length = df[col].nunique()\n",
    "\n",
    "\n",
    "    churn_count_by_col = churn.groupby(col).size().reset_index(name='Churn Count')\n",
    "\n",
    "    \n",
    "    # Create a bar plot\n",
    "    plt.figure(figsize=(length, 20))\n",
    "    sns.barplot(x=f'{col}', y='Churn Count', data=churn_count_by_col)\n",
    "\n",
    "    # Add titles and labels\n",
    "    plt.title(f'Number of Churned Customers by {col}')\n",
    "    plt.xlabel(f'{col}')\n",
    "    plt.ylabel('Number of Churns')\n",
    "\n",
    "    # Show the plot\n",
    "    plt.show()\n",
    "\n",
    "\n",
    "\n",
    "# churn_rate_by_col(\"Total Spend\")\n",
    "churn_rate_by_col(\"Age\")"
   ]
  },
  {
   "cell_type": "code",
   "execution_count": null,
   "metadata": {},
   "outputs": [],
   "source": [
    "df.head()"
   ]
  },
  {
   "cell_type": "code",
   "execution_count": null,
   "metadata": {},
   "outputs": [],
   "source": [
    "#continuous features relative age \n",
    "\n",
    "age = df['Age']\n",
    "features = [\"Tenure\", \"Usage Frequency\", \"Support Calls\", \"Payment Delays\", \"Total Spend\", \"Last Interaction\"]\n",
    "\n",
    "for col in features:\n",
    "    try:\n",
    "        plt.figure()  # Create a new figure\n",
    "        sns.lineplot(x=age, y=df[col])\n",
    "        plt.title(f'{col} vs Age') \n",
    "        plt.show()  # Display the plot\n",
    "    except KeyError:\n",
    "        continue"
   ]
  },
  {
   "cell_type": "code",
   "execution_count": null,
   "metadata": {},
   "outputs": [],
   "source": [
    "#Create a boxplot for every numerical column to identify outliers\n",
    "numerical_columns = df.select_dtypes(include='float64').columns\n",
    "\n",
    "for column in numerical_columns:\n",
    "    plt.figure(figsize=(8, 2))\n",
    "    sns.boxplot(x=df[column])\n",
    "    plt.title(f'Boxplot of {column}')\n",
    "    plt.xlabel(column)\n",
    "    plt.show()"
   ]
  },
  {
   "cell_type": "code",
   "execution_count": null,
   "metadata": {},
   "outputs": [],
   "source": [
    "#Create a QQ Plot to determine if each numerical column has a normal distribution\n",
    "numerical_columns = df.select_dtypes(include='float64').columns\n",
    "numerical_columns_list = list(numerical_columns)\n",
    "numerical_columns_list.remove('Churn')\n",
    "numerical_columns = pd.Index(numerical_columns_list)\n",
    "\n",
    "for feature in numerical_columns:\n",
    "    plt.figure(figsize=(6, 4))\n",
    "    stats.probplot(df[feature], dist=\"norm\", plot=plt)\n",
    "    plt.title(f'QQ Plot of {feature}')\n",
    "    plt.xlabel('Theoretical Quantiles')\n",
    "    plt.ylabel('Sample Quantiles')\n",
    "    plt.grid(True)\n",
    "    plt.show()\n"
   ]
  },
  {
   "cell_type": "markdown",
   "metadata": {},
   "source": [
    "From the QQ plots, the numerical columns have less of a straight line curve and more of a cube root curve. This indicates that the columns do not have a normal distribution and will need to be transformed ?\n"
   ]
  },
  {
   "cell_type": "code",
   "execution_count": null,
   "metadata": {},
   "outputs": [],
   "source": [
    "#Create a scatterplot to visualize the relationship between each column and the label\n",
    "features = df.columns[df.columns != 'Churn']\n",
    "\n",
    "for feature in features:\n",
    "    plt.figure(figsize=(6, 2))\n",
    "    sns.scatterplot(x=df[feature], y=df['Churn'])\n",
    "    plt.title(f'Scatter Plot of {feature} vs Churn')\n",
    "    plt.xlabel(feature)\n",
    "    plt.ylabel('Churn')\n",
    "    plt.show()\n"
   ]
  },
  {
   "cell_type": "code",
   "execution_count": null,
   "metadata": {},
   "outputs": [],
   "source": [
    "#Spltting the concatenated data into 80/20 training and testing\n",
    "from sklearn.model_selection import train_test_split\n",
    "y = df['Churn']\n",
    "X = df.drop(columns='Churn')\n",
    "\n",
    "X_train, X_test, y_train, y_test = train_test_split(X, y, test_size=0.2,random_state=1234)"
   ]
  },
  {
   "cell_type": "code",
   "execution_count": null,
   "metadata": {},
   "outputs": [],
   "source": [
    "#Histograms of churn and no churn in the newly split training dataset\n",
    "y_train_named = y_train.rename('Churn')\n",
    "training_data = pd.concat([X_train, y_train_named], axis=1)\n",
    "\n",
    "plt.figure(figsize=(6, 3))\n",
    "\n",
    "features = training_data.drop(columns=['Churn']).columns\n",
    "\n",
    "for feature in features:\n",
    "    plt.figure(figsize=(6, 3))\n",
    "    \n",
    "    sns.histplot(training_data[training_data['Churn'] == 0][feature], color='blue', label='No Churn', kde=False, stat=\"density\", bins=30, alpha=0.5)\n",
    "    sns.histplot(training_data[training_data['Churn'] == 1][feature], color='red', label='Churn', kde=False, stat=\"density\", bins=30, alpha=0.5)\n",
    "    \n",
    "    plt.title(f'Distribution of {feature} for Churn vs No Churn')\n",
    "    plt.xlabel(feature)\n",
    "    plt.ylabel('Density')\n",
    "    plt.legend()\n",
    "    \n",
    "    plt.show()"
   ]
  },
  {
   "cell_type": "code",
   "execution_count": null,
   "metadata": {},
   "outputs": [],
   "source": [
    "#Histograms of churn and no churn in the newly split testing dataset\n",
    "y_test_named = y_test.rename('Churn')\n",
    "testing_data = pd.concat([X_test, y_test_named], axis=1)\n",
    "\n",
    "plt.figure(figsize=(6, 3))\n",
    "\n",
    "features = testing_data.drop(columns=['Churn']).columns\n",
    "\n",
    "for feature in features:\n",
    "    plt.figure(figsize=(6, 3))\n",
    "    \n",
    "    sns.histplot(testing_data[testing_data['Churn'] == 0][feature], color='blue', label='No Churn', kde=False, stat=\"density\", bins=30, alpha=0.5)\n",
    "    sns.histplot(testing_data[testing_data['Churn'] == 1][feature], color='red', label='Churn', kde=False, stat=\"density\", bins=30, alpha=0.5)\n",
    "    \n",
    "    plt.title(f'Distribution of {feature} for Churn vs No Churn')\n",
    "    plt.xlabel(feature)\n",
    "    plt.ylabel('Density')\n",
    "    plt.legend()\n",
    "    \n",
    "    plt.show()"
   ]
  },
  {
   "cell_type": "code",
   "execution_count": null,
   "metadata": {},
   "outputs": [],
   "source": [
    "y = df['Churn']\n",
    "X = df.drop(columns='Churn')\n",
    "\n",
    "X_train, X_test, y_train, y_test = train_test_split(X, y, test_size=0.2,stratify=y,random_state=1234)"
   ]
  },
  {
   "cell_type": "code",
   "execution_count": null,
   "metadata": {},
   "outputs": [],
   "source": [
    "#Checking imbalance: \n",
    "y_train.value_counts(normalize=True)\n",
    "\n"
   ]
  },
  {
   "cell_type": "code",
   "execution_count": null,
   "metadata": {},
   "outputs": [],
   "source": [
    "#Histograms of churn and no churn in the newly split training dataset\n",
    "y_train_named = y_train.rename('Churn')\n",
    "training_data = pd.concat([X_train, y_train_named], axis=1)\n",
    "\n",
    "plt.figure(figsize=(6, 3))\n",
    "\n",
    "features = training_data.drop(columns=['Churn']).columns\n",
    "\n",
    "for feature in features:\n",
    "    plt.figure(figsize=(6, 3))\n",
    "    \n",
    "    sns.histplot(training_data[training_data['Churn'] == 0][feature], color='blue', label='No Churn', kde=False, stat=\"density\", bins=30, alpha=0.5)\n",
    "    sns.histplot(training_data[training_data['Churn'] == 1][feature], color='red', label='Churn', kde=False, stat=\"density\", bins=30, alpha=0.5)\n",
    "    \n",
    "    plt.title(f'Distribution of {feature} for Churn vs No Churn')\n",
    "    plt.xlabel(feature)\n",
    "    plt.ylabel('Density')\n",
    "    plt.legend()\n",
    "    \n",
    "    plt.show()\n",
    "    "
   ]
  },
  {
   "cell_type": "code",
   "execution_count": null,
   "metadata": {},
   "outputs": [],
   "source": [
    "#Histograms of churn and no churn in the newly split testing dataset\n",
    "y_test_named = y_test.rename('Churn')\n",
    "testing_data = pd.concat([X_test, y_test_named], axis=1)\n",
    "\n",
    "plt.figure(figsize=(6, 3))\n",
    "\n",
    "features = testing_data.drop(columns=['Churn']).columns\n",
    "\n",
    "for feature in features:\n",
    "    plt.figure(figsize=(6, 3))\n",
    "    \n",
    "    sns.histplot(testing_data[testing_data['Churn'] == 0][feature], color='blue', label='No Churn', kde=False, stat=\"density\", bins=30, alpha=0.5)\n",
    "    sns.histplot(testing_data[testing_data['Churn'] == 1][feature], color='red', label='Churn', kde=False, stat=\"density\", bins=30, alpha=0.5)\n",
    "    \n",
    "    plt.title(f'Distribution of {feature} for Churn vs No Churn')\n",
    "    plt.xlabel(feature)\n",
    "    plt.ylabel('Density')\n",
    "    plt.legend()\n",
    "    \n",
    "    plt.show()"
   ]
  }
 ],
 "metadata": {
  "kernelspec": {
   "display_name": "Python 3",
   "language": "python",
   "name": "python3"
  },
  "language_info": {
   "codemirror_mode": {
    "name": "ipython",
    "version": 3
   },
   "file_extension": ".py",
   "mimetype": "text/x-python",
   "name": "python",
   "nbconvert_exporter": "python",
   "pygments_lexer": "ipython3",
   "version": "3.10.6"
  }
 },
 "nbformat": 4,
 "nbformat_minor": 2
}

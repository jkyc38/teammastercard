{
 "cells": [
  {
   "cell_type": "markdown",
   "metadata": {},
   "source": [
    "Note: I am not sure if it is needed to have these commands:\n",
    "\n",
    "! pip install pandas\n",
    "\n",
    "! pip install numpy\n",
    "\n",
    "! pip install seaborn"
   ]
  },
  {
   "cell_type": "code",
   "execution_count": null,
   "metadata": {},
   "outputs": [],
   "source": [
    "import pandas as pd\n",
    "import numpy as np\n",
    "import seaborn as sns\n",
    "import matplotlib.pyplot as plt\n",
    "import scipy.stats as stats"
   ]
  },
  {
   "cell_type": "code",
   "execution_count": null,
   "metadata": {},
   "outputs": [],
   "source": [
    "# Load the CSV file into a DataFrame\n",
    "df = pd.read_csv('./dataset/customer_churn_dataset-training-master.csv')"
   ]
  },
  {
   "cell_type": "markdown",
   "metadata": {},
   "source": [
    "Gender, Subscription Type, and Contract Length are objects so these will need to be converted to be a numerical value"
   ]
  },
  {
   "cell_type": "code",
   "execution_count": null,
   "metadata": {},
   "outputs": [],
   "source": [
    "#Check for null values\n",
    "nan_count = np.sum(df.isnull(), axis=0)\n",
    "nan_count"
   ]
  },
  {
   "cell_type": "code",
   "execution_count": null,
   "metadata": {},
   "outputs": [],
   "source": [
    "row_nan_count = np.sum(df.isnull(), axis=1)\n",
    "row_nan_count"
   ]
  },
  {
   "cell_type": "markdown",
   "metadata": {},
   "source": [
    "After looking through the dataset, row 199295 has missing values for all the columns. Therefore, we can remove this row."
   ]
  },
  {
   "cell_type": "code",
   "execution_count": null,
   "metadata": {},
   "outputs": [],
   "source": [
    "df.iloc[199295]"
   ]
  },
  {
   "cell_type": "code",
   "execution_count": null,
   "metadata": {},
   "outputs": [],
   "source": [
    "#Drop row 199295\n",
    "df.drop(199295, inplace=True)"
   ]
  },
  {
   "cell_type": "code",
   "execution_count": null,
   "metadata": {},
   "outputs": [],
   "source": [
    "#Ensure that row 199295 was removed\n",
    "df.iloc[199295]"
   ]
  },
  {
   "cell_type": "code",
   "execution_count": null,
   "metadata": {},
   "outputs": [],
   "source": [
    "#Recheck for null values\n",
    "nan_count = np.sum(df.isnull(), axis=0)\n",
    "nan_count"
   ]
  },
  {
   "cell_type": "code",
   "execution_count": null,
   "metadata": {},
   "outputs": [],
   "source": [
    "#List the different values for the columns with object type\n",
    "print(df['Gender'].unique())\n",
    "print(df['Subscription Type'].unique())\n",
    "print(df['Contract Length'].unique())\n"
   ]
  },
  {
   "cell_type": "code",
   "execution_count": null,
   "metadata": {},
   "outputs": [],
   "source": [
    "#Perform one-hot encoding\n",
    "df_gender = pd.get_dummies(df['Gender'], prefix='Gender')\n",
    "df = df.join(df_gender)\n",
    "df.drop(columns='Gender', inplace=True)\n",
    "\n",
    "df_subscription_type = pd.get_dummies(df['Subscription Type'], prefix='Subscription Type')\n",
    "df = df.join(df_subscription_type)\n",
    "df.drop(columns='Subscription Type', inplace=True)\n",
    "\n",
    "df_contract_length = pd.get_dummies(df['Contract Length'], prefix='Contract Length')\n",
    "df = df.join(df_contract_length)\n",
    "df.drop(columns='Contract Length', inplace=True)"
   ]
  },
  {
   "cell_type": "code",
   "execution_count": null,
   "metadata": {},
   "outputs": [],
   "source": [
    "\n",
    "df.hist(bins=15, figsize=(20,15))"
   ]
  },
  {
   "cell_type": "code",
   "execution_count": null,
   "metadata": {},
   "outputs": [],
   "source": [
    "sns.lineplot(x=df['Age'], y=df['Churn'])"
   ]
  },
  {
   "cell_type": "code",
   "execution_count": null,
   "metadata": {},
   "outputs": [],
   "source": [
    "df.columns"
   ]
  },
  {
   "cell_type": "code",
   "execution_count": null,
   "metadata": {},
   "outputs": [],
   "source": [
    "#Recheck data types\n",
    "df.dtypes"
   ]
  },
  {
   "cell_type": "code",
   "execution_count": null,
   "metadata": {},
   "outputs": [],
   "source": [
    "#Identifying correlations with the label\n",
    "corr_matrix = round(df.corr(),5)\n",
    "corrs = corr_matrix['Churn']\n",
    "corrs_sorted = corrs.sort_values(ascending=False)\n",
    "corrs_sorted"
   ]
  },
  {
   "cell_type": "code",
   "execution_count": null,
   "metadata": {},
   "outputs": [],
   "source": [
    "df.describe()"
   ]
  },
  {
   "cell_type": "code",
   "execution_count": null,
   "metadata": {},
   "outputs": [],
   "source": [
    "#Visualize the top two correlated features\n",
    "df_sample = df.sample(n=30000)\n",
    "top_two_corr = list(corrs_sorted[2:4].index)\n",
    "df_corrs_sample = df_sample[top_two_corr].copy()\n",
    "df_corrs_sample['Churn'] = df_sample['Churn']\n",
    "sns.pairplot(data=df_corrs_sample, kind='kde', corner=True)\n",
    "#ASK TA about this"
   ]
  },
  {
   "cell_type": "code",
   "execution_count": null,
   "metadata": {},
   "outputs": [],
   "source": [
    "filter_df = df[df['Age']<=25]\n",
    "\n",
    "filter_df\n",
    "filter_df.hist(column='Churn')"
   ]
  },
  {
   "cell_type": "markdown",
   "metadata": {},
   "source": [
    "^Note: We had to use a sample because using the whole dataset was too large and causing no output"
   ]
  },
  {
   "cell_type": "code",
   "execution_count": null,
   "metadata": {},
   "outputs": [],
   "source": [
    "#Create a boxplot for every numerical column to identify outliers\n",
    "numerical_columns = df.select_dtypes(include='float64').columns\n",
    "\n",
    "for column in numerical_columns:\n",
    "    plt.figure(figsize=(8, 2))\n",
    "    sns.boxplot(x=df[column])\n",
    "    plt.title(f'Boxplot of {column}')\n",
    "    plt.xlabel(column)\n",
    "    plt.show()"
   ]
  },
  {
   "cell_type": "code",
   "execution_count": null,
   "metadata": {},
   "outputs": [],
   "source": [
    "#Create a scatterplot to visualize the relationship between each column and the label\n",
    "features = df.columns[df.columns != 'Churn']\n",
    "\n",
    "for feature in features:\n",
    "    plt.figure(figsize=(6, 2))\n",
    "    sns.scatterplot(x=df[feature], y=df['Churn'])\n",
    "    plt.title(f'Scatter Plot of {feature} vs Churn')\n",
    "    plt.xlabel(feature)\n",
    "    plt.ylabel('Churn')\n",
    "    plt.show()\n"
   ]
  },
  {
   "cell_type": "code",
   "execution_count": null,
   "metadata": {},
   "outputs": [],
   "source": [
    "#Create a QQ Plot to determine if each numerical column has a normal distribution\n",
    "numerical_columns = df.select_dtypes(include='float64').columns\n",
    "numerical_columns_list = list(numerical_columns)\n",
    "numerical_columns_list.remove('Churn')\n",
    "numerical_columns = pd.Index(numerical_columns_list)\n",
    "\n",
    "for feature in numerical_columns:\n",
    "    plt.figure(figsize=(6, 4))\n",
    "    stats.probplot(df[feature], dist=\"norm\", plot=plt)\n",
    "    plt.title(f'QQ Plot of {feature}')\n",
    "    plt.xlabel('Theoretical Quantiles')\n",
    "    plt.ylabel('Sample Quantiles')\n",
    "    plt.grid(True)\n",
    "    plt.show()\n"
   ]
  },
  {
   "cell_type": "markdown",
   "metadata": {},
   "source": [
    "From the QQ plots, the numerical columns have less of a straight line curve and more of a cube root curve. This indicates that the columns do not have a normal distribution and will need to be transformed ?"
   ]
  }
 ],
 "metadata": {
  "language_info": {
   "name": "python"
  }
 },
 "nbformat": 4,
 "nbformat_minor": 2
}
